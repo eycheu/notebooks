{
 "cells": [
  {
   "cell_type": "markdown",
   "metadata": {},
   "source": [
    "# Stack Autoencoder on MNIST"
   ]
  },
  {
   "cell_type": "code",
   "execution_count": 4,
   "metadata": {
    "collapsed": true
   },
   "outputs": [],
   "source": [
    "import matplotlib.pyplot as plt\n",
    "%matplotlib inline"
   ]
  },
  {
   "cell_type": "markdown",
   "metadata": {},
   "source": [
    "### Load MNIST Data"
   ]
  },
  {
   "cell_type": "code",
   "execution_count": 5,
   "metadata": {},
   "outputs": [
    {
     "name": "stdout",
     "output_type": "stream",
     "text": [
      "x_train.shape : (60000, 28, 28)\n",
      "y_train.shape : (60000,)\n",
      "x_test.shape : (10000, 28, 28)\n",
      "y_test.shape : (10000,)\n"
     ]
    },
    {
     "data": {
      "image/png": "[encoded data removed]",
      "text/plain": [
       "<matplotlib.figure.Figure at 0x1130d11d0>"
      ]
     },
     "metadata": {},
     "output_type": "display_data"
    }
   ],
   "source": [
    "from keras.datasets import mnist\n",
    "import numpy as np\n",
    "(x_train, y_train), (x_test, y_test) = mnist.load_data()\n",
    "\n",
    "print(\"x_train.shape :\", x_train.shape)\n",
    "print(\"y_train.shape :\", y_train.shape)\n",
    "print(\"x_test.shape :\", x_test.shape)\n",
    "print(\"y_test.shape :\", y_test.shape)\n",
    "\n",
    "fig, axes = plt.subplots(nrows=1,ncols=10, figsize=(20,4))\n",
    "for i in range(10):\n",
    "    ax = axes[i]\n",
    "    ax.imshow(x_train[i])\n",
    "    plt.gray()\n",
    "    ax.get_xaxis().set_visible(False)\n",
    "    ax.get_yaxis().set_visible(False)"
   ]
  },
  {
   "cell_type": "markdown",
   "metadata": {},
   "source": [
    "### Normalization and Flattern 28x28 images into vectors of size 784"
   ]
  },
  {
   "cell_type": "code",
   "execution_count": 6,
   "metadata": {},
   "outputs": [
    {
     "name": "stdout",
     "output_type": "stream",
     "text": [
      "x_train.shape : (60000, 784)\n",
      "x_test.shape : (10000, 784)\n"
     ]
    },
    {
     "data": {
      "image/png": "[encoded data removed]",
      "text/plain": [
       "<matplotlib.figure.Figure at 0x116b32198>"
      ]
     },
     "metadata": {},
     "output_type": "display_data"
    }
   ],
   "source": [
    "x_train = x_train.astype('float32') / 255.\n",
    "x_test = x_test.astype('float32') / 255.\n",
    "x_train = x_train.reshape((len(x_train), np.prod(x_train.shape[1:])))\n",
    "x_test = x_test.reshape((len(x_test), np.prod(x_test.shape[1:])))\n",
    "\n",
    "print(\"x_train.shape :\", x_train.shape)\n",
    "print(\"x_test.shape :\", x_test.shape)\n",
    "\n",
    "fig, axes = plt.subplots(nrows=1,ncols=10, figsize=(20,4))\n",
    "for i in range(10):\n",
    "    ax = axes[i]\n",
    "    ax.imshow(x_train[i].reshape(28, 28))\n",
    "    plt.gray()\n",
    "    ax.get_xaxis().set_visible(False)\n",
    "    ax.get_yaxis().set_visible(False)"
   ]
  },
  {
   "cell_type": "code",
   "execution_count": 105,
   "metadata": {},
   "outputs": [],
   "source": [
    "from keras.layers import Input, Dense, Dropout, BatchNormalization\n",
    "from keras.models import Model, Sequential\n",
    "from keras import regularizers"
   ]
  },
  {
   "cell_type": "code",
   "execution_count": 134,
   "metadata": {},
   "outputs": [
    {
     "name": "stdout",
     "output_type": "stream",
     "text": [
      "_________________________________________________________________\n",
      "Layer (type)                 Output Shape              Param #   \n",
      "=================================================================\n",
      "input_64 (InputLayer)        (None, 784)               0         \n",
      "_________________________________________________________________\n",
      "dense_220 (Dense)            (None, 128)               100480    \n",
      "_________________________________________________________________\n",
      "batch_normalization_51 (Batc (None, 128)               512       \n",
      "_________________________________________________________________\n",
      "dense_221 (Dense)            (None, 64)                8256      \n",
      "_________________________________________________________________\n",
      "dense_222 (Dense)            (None, 32)                2080      \n",
      "_________________________________________________________________\n",
      "batch_normalization_52 (Batc (None, 32)                128       \n",
      "=================================================================\n",
      "Total params: 111,456\n",
      "Trainable params: 111,136\n",
      "Non-trainable params: 320\n",
      "_________________________________________________________________\n",
      "_________________________________________________________________\n",
      "Layer (type)                 Output Shape              Param #   \n",
      "=================================================================\n",
      "input_65 (InputLayer)        (None, 32)                0         \n",
      "_________________________________________________________________\n",
      "dense_223 (Dense)            (None, 64)                2112      \n",
      "_________________________________________________________________\n",
      "dense_224 (Dense)            (None, 128)               8320      \n",
      "_________________________________________________________________\n",
      "batch_normalization_53 (Batc (None, 128)               512       \n",
      "_________________________________________________________________\n",
      "dense_225 (Dense)            (None, 784)               101136    \n",
      "=================================================================\n",
      "Total params: 112,080\n",
      "Trainable params: 111,824\n",
      "Non-trainable params: 256\n",
      "_________________________________________________________________\n",
      "_________________________________________________________________\n",
      "Layer (type)                 Output Shape              Param #   \n",
      "=================================================================\n",
      "input_64 (InputLayer)        (None, 784)               0         \n",
      "_________________________________________________________________\n",
      "dense_220 (Dense)            (None, 128)               100480    \n",
      "_________________________________________________________________\n",
      "batch_normalization_51 (Batc (None, 128)               512       \n",
      "_________________________________________________________________\n",
      "dense_221 (Dense)            (None, 64)                8256      \n",
      "_________________________________________________________________\n",
      "dense_222 (Dense)            (None, 32)                2080      \n",
      "_________________________________________________________________\n",
      "batch_normalization_52 (Batc (None, 32)                128       \n",
      "_________________________________________________________________\n",
      "dense_223 (Dense)            (None, 64)                2112      \n",
      "_________________________________________________________________\n",
      "dense_224 (Dense)            (None, 128)               8320      \n",
      "_________________________________________________________________\n",
      "batch_normalization_53 (Batc (None, 128)               512       \n",
      "_________________________________________________________________\n",
      "dense_225 (Dense)            (None, 784)               101136    \n",
      "=================================================================\n",
      "Total params: 223,536\n",
      "Trainable params: 222,960\n",
      "Non-trainable params: 576\n",
      "_________________________________________________________________\n"
     ]
    }
   ],
   "source": [
    "# this is the size of our encoded representations\n",
    "encoding_dim = 32  # 32 floats -> compression of factor 24.5, assuming the input is 784 floats\n",
    "\n",
    "# this is our input placeholder\n",
    "input_img = Input(shape=(784,))\n",
    "# \"encoded\" is the encoded representation of the input\n",
    "encoded = Dense(128, activation='relu')(input_img)\n",
    "encoded = BatchNormalization()(encoded)\n",
    "encoded = Dense(64, activation='relu')(encoded)\n",
    "encoded = Dense(encoding_dim, activation='relu')(encoded)\n",
    "encoded = BatchNormalization()(encoded)\n",
    "\n",
    "# this model maps an input to its encoded representation\n",
    "encoder = Model(input_img, encoded)\n",
    "encoder.summary()\n",
    "\n",
    "# \"decoded\" is the lossy reconstruction of the input\n",
    "shared_decoded1 = Dense(64, activation='relu')\n",
    "shared_decoded2 = Dense(128, activation='relu')\n",
    "shared_decoded2BN = BatchNormalization()\n",
    "shared_decoded3 = Dense(784, activation='sigmoid')\n",
    "\n",
    "decoded1a = shared_decoded1(encoded)\n",
    "decoded2a = shared_decoded2(decoded1a)\n",
    "decoded2a = shared_decoded2BN(decoded2a)\n",
    "decoded3a = shared_decoded3(decoded2a)\n",
    "\n",
    "# create a placeholder for an encoded (32-dimensional) input\n",
    "encoded_input = Input(shape=(encoding_dim,))\n",
    "decoded1b = shared_decoded1(encoded_input)\n",
    "decoded2b = shared_decoded2(decoded1b)\n",
    "decoded2b = shared_decoded2BN(decoded2b)\n",
    "decoded3b = shared_decoded3(decoded2b)\n",
    "\n",
    "# create the decoder model\n",
    "decoder = Model(encoded_input, decoded3b)\n",
    "decoder.summary()\n",
    "\n",
    "# this model maps an input to its reconstruction\n",
    "autoencoder = Model(input_img, decoded3a)\n",
    "autoencoder.summary()"
   ]
  },
  {
   "cell_type": "code",
   "execution_count": 135,
   "metadata": {
    "collapsed": true
   },
   "outputs": [],
   "source": [
    "autoencoder.compile(optimizer='adadelta', loss='binary_crossentropy')"
   ]
  },
  {
   "cell_type": "code",
   "execution_count": 173,
   "metadata": {
    "scrolled": true
   },
   "outputs": [
    {
     "name": "stdout",
     "output_type": "stream",
     "text": [
      "Train on 60000 samples, validate on 10000 samples\n",
      "Epoch 1/10\n",
      "60000/60000 [==============================] - 6s - loss: 0.0908 - val_loss: 0.0883\n",
      "Epoch 2/10\n",
      "60000/60000 [==============================] - 6s - loss: 0.0907 - val_loss: 0.0881\n",
      "Epoch 3/10\n",
      "60000/60000 [==============================] - 6s - loss: 0.0906 - val_loss: 0.0880\n",
      "Epoch 4/10\n",
      "60000/60000 [==============================] - 6s - loss: 0.0905 - val_loss: 0.0879\n",
      "Epoch 5/10\n",
      "60000/60000 [==============================] - 6s - loss: 0.0903 - val_loss: 0.0877\n",
      "Epoch 6/10\n",
      "60000/60000 [==============================] - 6s - loss: 0.0902 - val_loss: 0.0875\n",
      "Epoch 7/10\n",
      "60000/60000 [==============================] - 6s - loss: 0.0901 - val_loss: 0.0875\n",
      "Epoch 8/10\n",
      "60000/60000 [==============================] - 6s - loss: 0.0900 - val_loss: 0.0874\n",
      "Epoch 9/10\n",
      "60000/60000 [==============================] - 6s - loss: 0.0899 - val_loss: 0.0873\n",
      "Epoch 10/10\n",
      "60000/60000 [==============================] - 6s - loss: 0.0898 - val_loss: 0.0872\n"
     ]
    },
    {
     "data": {
      "text/plain": [
       "<keras.callbacks.History at 0x145464400>"
      ]
     },
     "execution_count": 173,
     "metadata": {},
     "output_type": "execute_result"
    }
   ],
   "source": [
    "autoencoder.fit(x_train, x_train,\n",
    "                epochs=10,\n",
    "                batch_size=256,\n",
    "                shuffle=True,\n",
    "                validation_data=(x_test, x_test))"
   ]
  },
  {
   "cell_type": "code",
   "execution_count": 174,
   "metadata": {
    "collapsed": true
   },
   "outputs": [],
   "source": [
    "# encode and decode some digits\n",
    "# note that we take them from the *test* set\n",
    "encoded_imgs = encoder.predict(x_test)\n",
    "decoded_imgs = decoder.predict(encoded_imgs)"
   ]
  },
  {
   "cell_type": "code",
   "execution_count": 175,
   "metadata": {},
   "outputs": [
    {
     "name": "stdout",
     "output_type": "stream",
     "text": [
      "-0.0435716\n",
      "0.132515\n"
     ]
    }
   ],
   "source": [
    "print(encoded_imgs.mean())\n",
    "print(x_test.mean())"
   ]
  },
  {
   "cell_type": "code",
   "execution_count": 176,
   "metadata": {},
   "outputs": [
    {
     "data": {
      "image/png": "[encoded data removed]",
      "text/plain": [
       "<matplotlib.figure.Figure at 0x13b480630>"
      ]
     },
     "metadata": {},
     "output_type": "display_data"
    }
   ],
   "source": [
    "fig, axes = plt.subplots(nrows=3,ncols=10, figsize=(20,4))\n",
    "for i in range(10):\n",
    "    ax = axes[0,i]\n",
    "    ax.imshow(x_test[i].reshape(28, 28))\n",
    "    plt.gray()\n",
    "    ax.get_xaxis().set_visible(False)\n",
    "    ax.get_yaxis().set_visible(False)\n",
    "    \n",
    "    ax = axes[1, i]\n",
    "    ax.imshow(encoded_imgs[i].reshape(-1,8))\n",
    "    plt.gray()\n",
    "    ax.get_xaxis().set_visible(False)\n",
    "    ax.get_yaxis().set_visible(False)\n",
    "    \n",
    "    ax = axes[2,i]\n",
    "    ax.imshow(decoded_imgs[i].reshape(28, 28))\n",
    "    plt.gray()\n",
    "    ax.get_xaxis().set_visible(False)\n",
    "    ax.get_yaxis().set_visible(False)"
   ]
  },
  {
   "cell_type": "code",
   "execution_count": null,
   "metadata": {
    "collapsed": true
   },
   "outputs": [],
   "source": []
  }
 ],
 "metadata": {
  "kernelspec": {
   "display_name": "Python 3",
   "language": "python",
   "name": "python3"
  },
  "language_info": {
   "codemirror_mode": {
    "name": "ipython",
    "version": 3
   },
   "file_extension": ".py",
   "mimetype": "text/x-python",
   "name": "python",
   "nbconvert_exporter": "python",
   "pygments_lexer": "ipython3",
   "version": "3.6.1"
  }
 },
 "nbformat": 4,
 "nbformat_minor": 2
}
